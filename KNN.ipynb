{
 "cells": [
  {
   "cell_type": "code",
   "execution_count": 32,
   "metadata": {},
   "outputs": [],
   "source": [
    "import pandas as pd\n",
    "import matplotlib.pyplot as plt\n",
    "from sklearn.neighbors import KNeighborsClassifier"
   ]
  },
  {
   "cell_type": "code",
   "execution_count": 38,
   "metadata": {},
   "outputs": [
    {
     "data": {
      "text/html": [
       "<div>\n",
       "<style scoped>\n",
       "    .dataframe tbody tr th:only-of-type {\n",
       "        vertical-align: middle;\n",
       "    }\n",
       "\n",
       "    .dataframe tbody tr th {\n",
       "        vertical-align: top;\n",
       "    }\n",
       "\n",
       "    .dataframe thead th {\n",
       "        text-align: right;\n",
       "    }\n",
       "</style>\n",
       "<table border=\"1\" class=\"dataframe\">\n",
       "  <thead>\n",
       "    <tr style=\"text-align: right;\">\n",
       "      <th></th>\n",
       "      <th>Data</th>\n",
       "      <th>Latitude</th>\n",
       "      <th>Longitude</th>\n",
       "      <th>Kota</th>\n",
       "    </tr>\n",
       "  </thead>\n",
       "  <tbody>\n",
       "    <tr>\n",
       "      <th>0</th>\n",
       "      <td>D01</td>\n",
       "      <td>11</td>\n",
       "      <td>26</td>\n",
       "      <td>Surabaya</td>\n",
       "    </tr>\n",
       "    <tr>\n",
       "      <th>1</th>\n",
       "      <td>D02</td>\n",
       "      <td>15</td>\n",
       "      <td>29</td>\n",
       "      <td>Surabaya</td>\n",
       "    </tr>\n",
       "    <tr>\n",
       "      <th>2</th>\n",
       "      <td>D03</td>\n",
       "      <td>19</td>\n",
       "      <td>28</td>\n",
       "      <td>Surabaya</td>\n",
       "    </tr>\n",
       "    <tr>\n",
       "      <th>3</th>\n",
       "      <td>D04</td>\n",
       "      <td>18</td>\n",
       "      <td>30</td>\n",
       "      <td>Surabaya</td>\n",
       "    </tr>\n",
       "    <tr>\n",
       "      <th>4</th>\n",
       "      <td>D05</td>\n",
       "      <td>16</td>\n",
       "      <td>26</td>\n",
       "      <td>Surabaya</td>\n",
       "    </tr>\n",
       "    <tr>\n",
       "      <th>5</th>\n",
       "      <td>D06</td>\n",
       "      <td>23</td>\n",
       "      <td>25</td>\n",
       "      <td>Sidoarjo</td>\n",
       "    </tr>\n",
       "    <tr>\n",
       "      <th>6</th>\n",
       "      <td>D07</td>\n",
       "      <td>25</td>\n",
       "      <td>22</td>\n",
       "      <td>Sidoarjo</td>\n",
       "    </tr>\n",
       "    <tr>\n",
       "      <th>7</th>\n",
       "      <td>D08</td>\n",
       "      <td>21</td>\n",
       "      <td>24</td>\n",
       "      <td>Sidoarjo</td>\n",
       "    </tr>\n",
       "    <tr>\n",
       "      <th>8</th>\n",
       "      <td>D09</td>\n",
       "      <td>23</td>\n",
       "      <td>25</td>\n",
       "      <td>Sidoarjo</td>\n",
       "    </tr>\n",
       "    <tr>\n",
       "      <th>9</th>\n",
       "      <td>D10</td>\n",
       "      <td>29</td>\n",
       "      <td>24</td>\n",
       "      <td>Sidoarjo</td>\n",
       "    </tr>\n",
       "  </tbody>\n",
       "</table>\n",
       "</div>"
      ],
      "text/plain": [
       "  Data  Latitude  Longitude      Kota\n",
       "0  D01        11         26  Surabaya\n",
       "1  D02        15         29  Surabaya\n",
       "2  D03        19         28  Surabaya\n",
       "3  D04        18         30  Surabaya\n",
       "4  D05        16         26  Surabaya\n",
       "5  D06        23         25  Sidoarjo\n",
       "6  D07        25         22  Sidoarjo\n",
       "7  D08        21         24  Sidoarjo\n",
       "8  D09        23         25  Sidoarjo\n",
       "9  D10        29         24  Sidoarjo"
      ]
     },
     "execution_count": 38,
     "metadata": {},
     "output_type": "execute_result"
    }
   ],
   "source": [
    "df = pd.read_table('dataset.txt')\n",
    "df"
   ]
  },
  {
   "cell_type": "code",
   "execution_count": 39,
   "metadata": {},
   "outputs": [],
   "source": [
    "# Assigning Predictor/Features & Target/Label \n",
    "x = df.iloc[:,1:3]\n",
    "y = df.iloc[:,-1] "
   ]
  },
  {
   "cell_type": "code",
   "execution_count": 46,
   "metadata": {},
   "outputs": [
    {
     "data": {
      "text/plain": [
       "KNeighborsClassifier(metric='euclidean')"
      ]
     },
     "execution_count": 46,
     "metadata": {},
     "output_type": "execute_result"
    }
   ],
   "source": [
    "# n nearest neighbors are selected and \n",
    "# distance is calculated by euclidean method\n",
    "classifier = KNeighborsClassifier(n_neighbors=5,metric = 'euclidean')\n",
    "classifier.fit(x,y)"
   ]
  },
  {
   "cell_type": "code",
   "execution_count": 47,
   "metadata": {},
   "outputs": [],
   "source": [
    "pred1 = 19\n",
    "pred2 = 25"
   ]
  },
  {
   "cell_type": "code",
   "execution_count": 51,
   "metadata": {},
   "outputs": [
    {
     "data": {
      "image/png": "[encoded data removed]",
      "text/plain": [
       "<Figure size 432x288 with 1 Axes>"
      ]
     },
     "metadata": {
      "needs_background": "light"
     },
     "output_type": "display_data"
    }
   ],
   "source": [
    "A = df[df['Kota'] == 'Surabaya']\n",
    "B = df[df['Kota'] == 'Sidoarjo']\n",
    "plt.scatter(A.Latitude, A.Longitude, color = 'red', label = 'Surabaya')\n",
    "plt.scatter(B.Latitude, B.Longitude, color = 'blue', label = 'Sidoarjo')\n",
    "hasil = classifier.predict([[pred1,pred2]])\n",
    "plt.scatter(pred1,pred2, color = 'black', marker =\"*\")\n",
    "plt.title(\"Result : \"+hasil)\n",
    "plt.xlabel(\"Latitude\")\n",
    "plt.ylabel(\"Longitude\")\n",
    "plt.legend()\n",
    "plt.show()"
   ]
  }
 ],
 "metadata": {
  "kernelspec": {
   "display_name": "Python 3",
   "language": "python",
   "name": "python3"
  },
  "language_info": {
   "codemirror_mode": {
    "name": "ipython",
    "version": 3
   },
   "file_extension": ".py",
   "mimetype": "text/x-python",
   "name": "python",
   "nbconvert_exporter": "python",
   "pygments_lexer": "ipython3",
   "version": "3.7.6"
  }
 },
 "nbformat": 4,
 "nbformat_minor": 4
}
